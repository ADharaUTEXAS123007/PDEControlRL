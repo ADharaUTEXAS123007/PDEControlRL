{
 "cells": [
  {
   "cell_type": "markdown",
   "id": "thorough-sunrise",
   "metadata": {},
   "source": [
    "# Controlling Burgers' Equation with supervised Control Force Estimators\n",
    "This notebook will go over the process of training a neural network model to control Burgers' equation, a nonlinear PDE. This is done with a single shooting method using a differentiable physics loss function. "
   ]
  },
  {
   "cell_type": "code",
   "execution_count": 1,
   "id": "outdoor-latitude",
   "metadata": {},
   "outputs": [],
   "source": [
    "%load_ext autoreload\n",
    "%autoreload 2\n",
    "import sys; sys.path.append('../../PDE-Control/PhiFlow'); sys.path.append('../../PDE-Control/src')\n",
    "from phi.flow import *\n",
    "import burgers_plots as bplt"
   ]
  },
  {
   "cell_type": "markdown",
   "id": "demographic-unknown",
   "metadata": {},
   "source": [
    "## CFE Chain initialization"
   ]
  },
  {
   "cell_type": "code",
   "execution_count": null,
   "id": "silver-lloyd",
   "metadata": {},
   "outputs": [],
   "source": []
  }
 ],
 "metadata": {
  "kernelspec": {
   "display_name": "phiflow",
   "language": "python",
   "name": "phiflow"
  },
  "language_info": {
   "codemirror_mode": {
    "name": "ipython",
    "version": 3
   },
   "file_extension": ".py",
   "mimetype": "text/x-python",
   "name": "python",
   "nbconvert_exporter": "python",
   "pygments_lexer": "ipython3",
   "version": "3.6.12"
  }
 },
 "nbformat": 4,
 "nbformat_minor": 5
}
